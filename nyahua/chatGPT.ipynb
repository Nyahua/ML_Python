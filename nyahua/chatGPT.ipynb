{
 "cells": [
  {
   "cell_type": "code",
   "execution_count": 1,
   "id": "ea134346-6b40-4742-85a0-3aa2b7c7f3b7",
   "metadata": {},
   "outputs": [],
   "source": [
    "# https://levelup.gitconnected.com/interfacing-chatgpt-with-python-824be63dfa2f\n",
    "# to install the openai API package: pip install openai\n",
    "\n",
    "# https://dev.to/jakewitcher/using-env-files-for-environment-variables-in-python-applications-55a1\n",
    "# to install .env package: pip install python-dotenv\n",
    "\n",
    "import openai\n",
    "import os\n",
    "from dotenv import load_dotenv\n",
    "load_dotenv()\n",
    "\n",
    "openai.api_key =  os.getenv('OPENAI')\n",
    "model_engine = \"text-davinci-003\""
   ]
  },
  {
   "cell_type": "code",
   "execution_count": 2,
   "id": "3f26844a-6733-4786-a7a9-aaf4bf9e57b4",
   "metadata": {},
   "outputs": [
    {
     "data": {
      "text/plain": [
       "<OpenAIObject text_completion id=cmpl-6oObggS36WTtLCJqZtbmdaBiVa3Ge at 0x18887008f90> JSON: {\n",
       "  \"choices\": [\n",
       "    {\n",
       "      \"finish_reason\": null,\n",
       "      \"index\": 0,\n",
       "      \"logprobs\": null,\n",
       "      \"text\": \"\\n\\nimport json\\n\\n#open json file\\nwith open('filename.json') as json_file:\\n    #load json file\\n    data = json.load(json_file)\\n    \\n#access json file\\nfor p in data['people']:\\n    print('Name: ' + p['name'])\\n    print('Website: ' + p['website'])\\n    print('From: ' + p['from'])\\n    print('')\"\n",
       "    }\n",
       "  ],\n",
       "  \"created\": 1677469008,\n",
       "  \"id\": \"cmpl-6oObggS36WTtLCJqZtbmdaBiVa3Ge\",\n",
       "  \"model\": \"text-davinci-003\",\n",
       "  \"object\": \"text_completion\",\n",
       "  \"usage\": {\n",
       "    \"completion_tokens\": 103,\n",
       "    \"prompt_tokens\": 9,\n",
       "    \"total_tokens\": 112\n",
       "  }\n",
       "}"
      ]
     },
     "execution_count": 2,
     "metadata": {},
     "output_type": "execute_result"
    }
   ],
   "source": [
    "completion = openai.Completion.create(engine = model_engine, \n",
    "                                      prompt = 'give me python code example to read json file', \n",
    "                                      max_tokens = 1024,\n",
    "                                      temperature = 0.8)\n",
    "\n",
    "completion"
   ]
  },
  {
   "cell_type": "code",
   "execution_count": 3,
   "id": "6c1e05c8-04c5-41a7-8cd7-1587a492e2af",
   "metadata": {},
   "outputs": [
    {
     "name": "stdout",
     "output_type": "stream",
     "text": [
      "\n",
      "\n",
      "import json\n",
      "\n",
      "#open json file\n",
      "with open('filename.json') as json_file:\n",
      "    #load json file\n",
      "    data = json.load(json_file)\n",
      "    \n",
      "#access json file\n",
      "for p in data['people']:\n",
      "    print('Name: ' + p['name'])\n",
      "    print('Website: ' + p['website'])\n",
      "    print('From: ' + p['from'])\n",
      "    print('')\n"
     ]
    }
   ],
   "source": [
    "print(completion.choices[0].text)"
   ]
  },
  {
   "cell_type": "code",
   "execution_count": 4,
   "id": "127a3006-7788-405f-8cf0-34bc5f8cdbc5",
   "metadata": {},
   "outputs": [],
   "source": [
    "def chatGPT(question: str):\n",
    "    completion = openai.Completion.create(\n",
    "        engine = model_engine, prompt = question, \n",
    "        max_tokens = 1024, temperature = 0.8)\n",
    "    return completion.choices[0].text"
   ]
  },
  {
   "cell_type": "code",
   "execution_count": 5,
   "id": "85a3c3b6-f528-44a7-96b3-deb6921f2240",
   "metadata": {},
   "outputs": [
    {
     "data": {
      "text/plain": [
       "'\\n\\n减脂餐是有效的，但是需要结合良好的饮食习惯和适当的运动才能达到最好的效果。减脂餐一般比较低热量，但有时也会比较高热量。减脂餐的关键在于要控制好热量的摄入量，这样才能达到减脂效果。'"
      ]
     },
     "execution_count": 5,
     "metadata": {},
     "output_type": "execute_result"
    }
   ],
   "source": [
    "chatGPT('159减脂餐是否有效')"
   ]
  },
  {
   "cell_type": "code",
   "execution_count": 6,
   "id": "7f05d3a2-a626-491c-a1ea-8fca5f19ee7d",
   "metadata": {},
   "outputs": [
    {
     "name": "stdout",
     "output_type": "stream",
     "text": [
      "\n",
      "\n",
      "The best practice to use secret API keys in a Python script is to store them in an environment variable. Environment variables are a set of dynamic variables that can be used by operating systems and applications to store information that must remain confidential and inaccessible to other users on the system. By storing API keys in environment variables, they can be accessed by the application without being visible to anyone else.\n"
     ]
    }
   ],
   "source": [
    "print(chatGPT('best practice to use secret API Key in pytohn script'))"
   ]
  },
  {
   "cell_type": "code",
   "execution_count": 7,
   "id": "4014e461-4ed5-4a54-ad2b-a20b1690621f",
   "metadata": {},
   "outputs": [
    {
     "name": "stdout",
     "output_type": "stream",
     "text": [
      "\n",
      "\n",
      "#This example will print out the value of the environment variable 'HOME'\n",
      "\n",
      "import os\n",
      "\n",
      "home_directory = os.getenv('HOME')\n",
      "\n",
      "print(home_directory)\n"
     ]
    }
   ],
   "source": [
    "print(chatGPT(\"give me pthon code example to use os.getenv()\"))"
   ]
  },
  {
   "cell_type": "code",
   "execution_count": 8,
   "id": "a0281cbc-744b-4ee7-ba5f-ebc1ae804d14",
   "metadata": {},
   "outputs": [
    {
     "name": "stdout",
     "output_type": "stream",
     "text": [
      "\n",
      "\n",
      "Example: \n",
      "\n",
      "DB_HOST=localhost\n",
      "DB_USER=root\n",
      "DB_PASSWORD=password\n",
      "DB_NAME=my_database\n"
     ]
    }
   ],
   "source": [
    "print(chatGPT(\"give me an example of .env file\"))"
   ]
  },
  {
   "cell_type": "code",
   "execution_count": null,
   "id": "c85afa5d-4c25-40d1-846d-b48acb3d1e6a",
   "metadata": {},
   "outputs": [],
   "source": []
  }
 ],
 "metadata": {
  "kernelspec": {
   "display_name": "Python 3 (ipykernel)",
   "language": "python",
   "name": "python3"
  },
  "language_info": {
   "codemirror_mode": {
    "name": "ipython",
    "version": 3
   },
   "file_extension": ".py",
   "mimetype": "text/x-python",
   "name": "python",
   "nbconvert_exporter": "python",
   "pygments_lexer": "ipython3",
   "version": "3.9.13"
  }
 },
 "nbformat": 4,
 "nbformat_minor": 5
}
